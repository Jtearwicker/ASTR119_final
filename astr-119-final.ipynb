{
 "cells": [
  {
   "cell_type": "markdown",
   "id": "3b8c886e",
   "metadata": {},
   "source": [
    "# ASTR 119 Final Project #3 - Tutorial Image"
   ]
  },
  {
   "cell_type": "markdown",
   "id": "9b32f37e",
   "metadata": {},
   "source": [
    "Importing our packages"
   ]
  },
  {
   "cell_type": "code",
   "execution_count": null,
   "id": "227d7311",
   "metadata": {},
   "outputs": [],
   "source": [
    "import numpy as np\n",
    "import sep"
   ]
  },
  {
   "cell_type": "code",
   "execution_count": null,
   "id": "ad60ae9c",
   "metadata": {},
   "outputs": [],
   "source": [
    "from astropy.io import fits\n",
    "import matplotlib.pyplot as plt\n",
    "from matplotlib import rcParams\n",
    "%matplotlib inline\n",
    "\n",
    "rcParams['figure.figsize'] = [10.,8.]"
   ]
  },
  {
   "cell_type": "markdown",
   "id": "4044b49d",
   "metadata": {},
   "source": [
    "Reading the image into a standard 2-D numpy array"
   ]
  },
  {
   "cell_type": "code",
   "execution_count": null,
   "id": "8cd9d8e7",
   "metadata": {},
   "outputs": [],
   "source": [
    "hdu_list = fits.open(\"C:\\\\Users\\\\peter\\\\Downloads\\\\image.fits\")\n",
    "data = hdu_list[0].data"
   ]
  },
  {
   "cell_type": "markdown",
   "id": "d72e5ec9",
   "metadata": {},
   "source": [
    "Display the given image for the tutorial"
   ]
  },
  {
   "cell_type": "code",
   "execution_count": null,
   "id": "3cb8184c",
   "metadata": {},
   "outputs": [],
   "source": [
    "m, s = np.mean(data), np.std(data)\n",
    "plt.imshow(data, interpolation='nearest', cmap='gray', vmin=m-s, vmax=m+s, origin='lower')\n",
    "plt.colorbar();\n",
    "plt.savefig('Tutorial PNG files/tutorial_image')"
   ]
  },
  {
   "cell_type": "markdown",
   "id": "f765b98f",
   "metadata": {},
   "source": [
    "Measure a spatially varying background on the image"
   ]
  },
  {
   "cell_type": "code",
   "execution_count": null,
   "id": "e3d73298",
   "metadata": {},
   "outputs": [],
   "source": [
    "bkg = sep.Background(data)"
   ]
  },
  {
   "cell_type": "markdown",
   "id": "157e98e4",
   "metadata": {},
   "source": [
    "Get a \"global\" mean and noise of the image background:"
   ]
  },
  {
   "cell_type": "code",
   "execution_count": null,
   "id": "58d03920",
   "metadata": {},
   "outputs": [],
   "source": [
    "print(bkg.globalback)\n",
    "print(bkg.globalrms)"
   ]
  },
  {
   "cell_type": "markdown",
   "id": "534d80c7",
   "metadata": {},
   "source": [
    "Evaluate background as 2-d array, same size as original image"
   ]
  },
  {
   "cell_type": "code",
   "execution_count": null,
   "id": "7a6c4160",
   "metadata": {},
   "outputs": [],
   "source": [
    "bkg_image = bkg.back()"
   ]
  },
  {
   "cell_type": "markdown",
   "id": "b7a42898",
   "metadata": {},
   "source": [
    "Display the background"
   ]
  },
  {
   "cell_type": "code",
   "execution_count": null,
   "id": "6a887afa",
   "metadata": {},
   "outputs": [],
   "source": [
    "plt.imshow(bkg_image, interpolation='nearest', cmap='gray', origin='lower')\n",
    "plt.colorbar();\n",
    "plt.savefig('Tutorial PNG files/tutorial_image_background')"
   ]
  },
  {
   "cell_type": "markdown",
   "id": "1b9f0bbb",
   "metadata": {},
   "source": [
    "Evaluate the background noise"
   ]
  },
  {
   "cell_type": "code",
   "execution_count": null,
   "id": "11c80789",
   "metadata": {},
   "outputs": [],
   "source": [
    "bkg_rms = bkg.rms()"
   ]
  },
  {
   "cell_type": "markdown",
   "id": "a1eba7e5",
   "metadata": {},
   "source": [
    "Display the background noise"
   ]
  },
  {
   "cell_type": "code",
   "execution_count": null,
   "id": "db48d6e3",
   "metadata": {},
   "outputs": [],
   "source": [
    "plt.imshow(bkg_rms, interpolation='nearest', cmap='gray', origin='lower')\n",
    "plt.colorbar();\n",
    "plt.savefig('Tutorial PNG files/tutorial_background_noise')"
   ]
  },
  {
   "cell_type": "markdown",
   "id": "3f43f52f",
   "metadata": {},
   "source": [
    "Subtract the background from the base image"
   ]
  },
  {
   "cell_type": "code",
   "execution_count": null,
   "id": "1865085b",
   "metadata": {},
   "outputs": [],
   "source": [
    "data_sub = data - bkg"
   ]
  },
  {
   "cell_type": "markdown",
   "id": "116968f1",
   "metadata": {},
   "source": [
    "Extracts the objects from the image"
   ]
  },
  {
   "cell_type": "code",
   "execution_count": null,
   "id": "32c15c57",
   "metadata": {},
   "outputs": [],
   "source": [
    "objects = sep.extract(data_sub, 1.5, err=bkg.globalrms)"
   ]
  },
  {
   "cell_type": "markdown",
   "id": "cbed909d",
   "metadata": {},
   "source": [
    "Return the number of objects detected"
   ]
  },
  {
   "cell_type": "code",
   "execution_count": null,
   "id": "8db2eb7d",
   "metadata": {},
   "outputs": [],
   "source": [
    "len(objects)"
   ]
  },
  {
   "cell_type": "markdown",
   "id": "a7772454",
   "metadata": {},
   "source": [
    "Circle the objects found on the background-subtracted image with a red ellipse and display the final image"
   ]
  },
  {
   "cell_type": "code",
   "execution_count": null,
   "id": "7d567679",
   "metadata": {},
   "outputs": [],
   "source": [
    "from matplotlib.patches import Ellipse\n",
    "\n",
    "fig, ax = plt.subplots()\n",
    "m, s = np.mean(data_sub), np.std(data_sub)\n",
    "im = ax.imshow(data_sub, interpolation='nearest', cmap='gray',\n",
    "               vmin=m-s, vmax=m+s, origin='lower')\n",
    "\n",
    "for i in range(len(objects)):\n",
    "    e = Ellipse(xy=(objects['x'][i], objects['y'][i]),\n",
    "                width=6*objects['a'][i],\n",
    "                height=6*objects['b'][i],\n",
    "                angle=objects['theta'][i] * 180. / np.pi)\n",
    "    e.set_facecolor('none')\n",
    "    e.set_edgecolor('red')\n",
    "    ax.add_artist(e)\n",
    "plt.savefig('Tutorial PNG files/tutorial_image_final')"
   ]
  },
  {
   "cell_type": "markdown",
   "id": "9301f1f3",
   "metadata": {},
   "source": [
    "Create arrays for the fluxes and errors of each object and print the first 10"
   ]
  },
  {
   "cell_type": "code",
   "execution_count": null,
   "id": "17a15a60",
   "metadata": {},
   "outputs": [],
   "source": [
    "flux, fluxerr, flag = sep.sum_circle(data_sub, objects['x'], objects['y'],\n",
    "                                     3.0, err=bkg.globalrms, gain=1.0)"
   ]
  },
  {
   "cell_type": "code",
   "execution_count": null,
   "id": "a3bd013a",
   "metadata": {},
   "outputs": [],
   "source": [
    "for i in range(10):\n",
    "    print(\"object {:d}: flux = {:f} +/- {:f}\".format(i, flux[i], fluxerr[i]))"
   ]
  }
 ],
 "metadata": {
  "kernelspec": {
   "display_name": "Python 3",
   "language": "python",
   "name": "python3"
  },
  "language_info": {
   "codemirror_mode": {
    "name": "ipython",
    "version": 3
   },
   "file_extension": ".py",
   "mimetype": "text/x-python",
   "name": "python",
   "nbconvert_exporter": "python",
   "pygments_lexer": "ipython3",
   "version": "3.8.8"
  }
 },
 "nbformat": 4,
 "nbformat_minor": 5
}
