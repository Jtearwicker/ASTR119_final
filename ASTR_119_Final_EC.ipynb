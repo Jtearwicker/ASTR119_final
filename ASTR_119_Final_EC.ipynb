{
 "cells": [
  {
   "cell_type": "code",
   "execution_count": null,
   "id": "614daaef",
   "metadata": {
    "ExecuteTime": {
     "end_time": "2021-12-08T23:42:54.165414Z",
     "start_time": "2021-12-08T23:42:53.411202Z"
    }
   },
   "outputs": [],
   "source": [
    "import numpy as np\n",
    "import matplotlib.pyplot as plt\n",
    "from astropy.io import fits\n",
    "import astropy"
   ]
  },
  {
   "cell_type": "code",
   "execution_count": null,
   "id": "0e2151d9",
   "metadata": {
    "ExecuteTime": {
     "end_time": "2021-12-08T23:49:07.255448Z",
     "start_time": "2021-12-08T23:49:07.239488Z"
    }
   },
   "outputs": [],
   "source": [
    "image_list = ['hudf_105w.fits', 'hudf_125w.fits', 'hudf_160w.fits']"
   ]
  },
  {
   "cell_type": "code",
   "execution_count": null,
   "id": "7096f312",
   "metadata": {
    "ExecuteTime": {
     "end_time": "2021-12-08T23:49:09.815505Z",
     "start_time": "2021-12-08T23:49:09.799302Z"
    }
   },
   "outputs": [],
   "source": [
    "image_concat = [fits.getdata(image) for image in image_list]"
   ]
  },
  {
   "cell_type": "code",
   "execution_count": null,
   "id": "0ab5f0b5",
   "metadata": {
    "ExecuteTime": {
     "end_time": "2021-12-08T23:41:44.041528Z",
     "start_time": "2021-12-08T23:41:44.031555Z"
    }
   },
   "outputs": [],
   "source": [
    "final_image = np.sum(image_concat, axis=0)"
   ]
  },
  {
   "cell_type": "code",
   "execution_count": null,
   "id": "19361af8",
   "metadata": {
    "ExecuteTime": {
     "end_time": "2021-12-08T23:42:30.100596Z",
     "start_time": "2021-12-08T23:42:30.079634Z"
    }
   },
   "outputs": [],
   "source": [
    "image_hist = plt.hist(final_image.flatten(), bins='auto')"
   ]
  },
  {
   "cell_type": "code",
   "execution_count": null,
   "id": "994d5ea9",
   "metadata": {},
   "outputs": [],
   "source": []
  }
 ],
 "metadata": {
  "kernelspec": {
   "display_name": "Python 3",
   "language": "python",
   "name": "python3"
  },
  "language_info": {
   "codemirror_mode": {
    "name": "ipython",
    "version": 3
   },
   "file_extension": ".py",
   "mimetype": "text/x-python",
   "name": "python",
   "nbconvert_exporter": "python",
   "pygments_lexer": "ipython3",
   "version": "3.8.8"
  }
 },
 "nbformat": 4,
 "nbformat_minor": 5
}
