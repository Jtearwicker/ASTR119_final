{
 "cells": [
  {
   "cell_type": "markdown",
   "id": "f0aa77f1",
   "metadata": {},
   "source": [
    "# ASTR 119 Final Project #3 - Group F - f105w"
   ]
  },
  {
   "cell_type": "markdown",
   "id": "d787081b",
   "metadata": {},
   "source": [
    "This project was created as a collaboration of all group members. No specific member takes sole responsibility for any part of the project. We all worked on it collectively."
   ]
  },
  {
   "cell_type": "markdown",
   "id": "2848e171",
   "metadata": {},
   "source": [
    "Importing packages"
   ]
  },
  {
   "cell_type": "code",
   "execution_count": null,
   "id": "801214b3",
   "metadata": {},
   "outputs": [],
   "source": [
    "import numpy as np\n",
    "import sep"
   ]
  },
  {
   "cell_type": "code",
   "execution_count": null,
   "id": "7efdfaf8",
   "metadata": {},
   "outputs": [],
   "source": [
    "from astropy.io import fits\n",
    "import matplotlib.pyplot as plt\n",
    "from matplotlib import rcParams\n",
    "%matplotlib inline\n",
    "\n",
    "rcParams['figure.figsize'] = [10.,8.]"
   ]
  },
  {
   "cell_type": "code",
   "execution_count": null,
   "id": "a3b55764",
   "metadata": {},
   "outputs": [],
   "source": [
    "Reading the image into a standard 2-D numpy array"
   ]
  },
  {
   "cell_type": "code",
   "execution_count": null,
   "id": "755356e1",
   "metadata": {},
   "outputs": [],
   "source": [
    "hdu_list = fits.open(\"C:\\\\Users\\\\peter\\\\Downloads\\\\hlsp_hudf12_hst_wfc3ir_udfmain_f105w_v1.0_drz.fits\")\n",
    "data = hdu_list[0].data"
   ]
  },
  {
   "cell_type": "markdown",
   "id": "291f25e1",
   "metadata": {},
   "source": [
    "Display the original image"
   ]
  },
  {
   "cell_type": "code",
   "execution_count": null,
   "id": "36a31b15",
   "metadata": {},
   "outputs": [],
   "source": [
    "m, s = np.mean(data), np.std(data)\n",
    "plt.imshow(data, interpolation='nearest', cmap='gray', vmin=m-s, vmax=m+s, origin='lower')\n",
    "plt.colorbar();"
   ]
  },
  {
   "cell_type": "markdown",
   "id": "dc8406d6",
   "metadata": {},
   "source": [
    "Measure a spatially varying background on the image"
   ]
  },
  {
   "cell_type": "code",
   "execution_count": null,
   "id": "3bca9b5a",
   "metadata": {},
   "outputs": [],
   "source": [
    "data = data.byteswap().newbyteorder()\n",
    "bkg = sep.Background(data)"
   ]
  },
  {
   "cell_type": "markdown",
   "id": "3546048b",
   "metadata": {},
   "source": [
    "Get a \"global\" mean and noise of the image background"
   ]
  },
  {
   "cell_type": "code",
   "execution_count": null,
   "id": "c16e3131",
   "metadata": {},
   "outputs": [],
   "source": [
    "print(bkg.globalback)\n",
    "print(bkg.globalrms)"
   ]
  },
  {
   "cell_type": "markdown",
   "id": "86ff7d50",
   "metadata": {},
   "source": [
    "Evaluate the background as a 2-D array as same the size as original image"
   ]
  },
  {
   "cell_type": "code",
   "execution_count": null,
   "id": "da2f2df1",
   "metadata": {},
   "outputs": [],
   "source": [
    "bkg_image = bkg.back()"
   ]
  },
  {
   "cell_type": "markdown",
   "id": "71b4f472",
   "metadata": {},
   "source": [
    "Display the background"
   ]
  },
  {
   "cell_type": "code",
   "execution_count": null,
   "id": "f5afec69",
   "metadata": {},
   "outputs": [],
   "source": [
    "plt.imshow(bkg_image, interpolation='nearest', cmap='gray', origin='lower')\n",
    "plt.colorbar();"
   ]
  },
  {
   "cell_type": "markdown",
   "id": "35d1317c",
   "metadata": {},
   "source": [
    "Evaluate the background noise as 2-d array as the same size as original image"
   ]
  },
  {
   "cell_type": "code",
   "execution_count": null,
   "id": "63c8c4ee",
   "metadata": {},
   "outputs": [],
   "source": [
    "bkg_rms = bkg.rms()"
   ]
  },
  {
   "cell_type": "markdown",
   "id": "09084fa1",
   "metadata": {},
   "source": [
    "Display the background noise as an image"
   ]
  },
  {
   "cell_type": "code",
   "execution_count": null,
   "id": "e306bd3f",
   "metadata": {},
   "outputs": [],
   "source": [
    "plt.imshow(bkg_rms, interpolation='nearest', cmap='gray', origin='lower')\n",
    "plt.colorbar();"
   ]
  },
  {
   "cell_type": "markdown",
   "id": "f2052b85",
   "metadata": {},
   "source": [
    "Subtract the background from the original image"
   ]
  },
  {
   "cell_type": "code",
   "execution_count": null,
   "id": "1f7bdf2c",
   "metadata": {},
   "outputs": [],
   "source": [
    "data_sub = data - bkg"
   ]
  },
  {
   "cell_type": "markdown",
   "id": "efbd012f",
   "metadata": {},
   "source": [
    "Extract the objects from the data_sub image"
   ]
  },
  {
   "cell_type": "code",
   "execution_count": null,
   "id": "0c5200ac",
   "metadata": {},
   "outputs": [],
   "source": [
    "objects = sep.extract(data_sub, 1.5, err=bkg.globalrms)"
   ]
  },
  {
   "cell_type": "markdown",
   "id": "b2190e17",
   "metadata": {},
   "source": [
    "Return how many objects were detected"
   ]
  },
  {
   "cell_type": "code",
   "execution_count": null,
   "id": "089cc693",
   "metadata": {},
   "outputs": [],
   "source": [
    "len(objects)"
   ]
  },
  {
   "cell_type": "markdown",
   "id": "e303c2ee",
   "metadata": {},
   "source": [
    "Circle the objects found on the background-subtracted image with a red ellipse and display the final image"
   ]
  },
  {
   "cell_type": "code",
   "execution_count": null,
   "id": "db04ac9b",
   "metadata": {},
   "outputs": [],
   "source": [
    "from matplotlib.patches import Ellipse\n",
    "\n",
    "# plot background-subtracted image\n",
    "fig, ax = plt.subplots()\n",
    "m, s = np.mean(data_sub), np.std(data_sub)\n",
    "im = ax.imshow(data_sub, interpolation='nearest', cmap='gray',\n",
    "               vmin=m-s, vmax=m+s, origin='lower')\n",
    "\n",
    "# plot an ellipse for each object\n",
    "for i in range(len(objects)):\n",
    "    e = Ellipse(xy=(objects['x'][i], objects['y'][i]),\n",
    "                width=6*objects['a'][i],\n",
    "                height=6*objects['b'][i],\n",
    "                angle=objects['theta'][i] * 180. / np.pi)\n",
    "    e.set_facecolor('none')\n",
    "    e.set_edgecolor('red')\n",
    "    ax.add_artist(e)"
   ]
  },
  {
   "cell_type": "markdown",
   "id": "3ee91635",
   "metadata": {},
   "source": [
    "Create arrays for the fluxes and errors of each object and print the first 10"
   ]
  },
  {
   "cell_type": "code",
   "execution_count": null,
   "id": "809709fe",
   "metadata": {},
   "outputs": [],
   "source": [
    "flux, fluxerr, flag = sep.sum_circle(data_sub, objects['x'], objects['y'],\n",
    "                                     3.0, err=bkg.globalrms, gain=1.0)"
   ]
  },
  {
   "cell_type": "code",
   "execution_count": null,
   "id": "872a6dd9",
   "metadata": {},
   "outputs": [],
   "source": [
    "# show the first 10 objects results:\n",
    "for i in range(10):\n",
    "    print(\"object {:d}: flux = {:f} +/- {:f}\".format(i, flux[i], fluxerr[i]))"
   ]
  },
  {
   "cell_type": "markdown",
   "id": "9c140d19",
   "metadata": {},
   "source": [
    "Create a histogram of the fluxes"
   ]
  },
  {
   "cell_type": "code",
   "execution_count": null,
   "id": "03f78e14",
   "metadata": {},
   "outputs": [],
   "source": [
    "image_hist = plt.hist(flux, bins='auto', range=(-0.05,0.1),fc='k', ec='k')\n",
    "plt.xlabel('Fluxes')\n",
    "plt.ylabel('Number of objects')"
   ]
  }
 ],
 "metadata": {
  "kernelspec": {
   "display_name": "Python 3",
   "language": "python",
   "name": "python3"
  },
  "language_info": {
   "codemirror_mode": {
    "name": "ipython",
    "version": 3
   },
   "file_extension": ".py",
   "mimetype": "text/x-python",
   "name": "python",
   "nbconvert_exporter": "python",
   "pygments_lexer": "ipython3",
   "version": "3.8.8"
  }
 },
 "nbformat": 4,
 "nbformat_minor": 5
}
