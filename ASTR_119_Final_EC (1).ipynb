{
 "cells": [
  {
   "cell_type": "code",
   "execution_count": null,
   "id": "361d7063",
   "metadata": {
    "ExecuteTime": {
     "end_time": "2021-12-09T00:02:42.821253Z",
     "start_time": "2021-12-09T00:02:42.804297Z"
    }
   },
   "outputs": [],
   "source": [
    "import numpy as np\n",
    "import matplotlib.pyplot as plt\n",
    "from astropy.io import fits\n",
    "import astropy\n",
    "import matplotlib.colors as colors\n",
    "plt.style.use('dark_background')"
   ]
  },
  {
   "cell_type": "code",
   "execution_count": null,
   "id": "5f393d33",
   "metadata": {
    "ExecuteTime": {
     "end_time": "2021-12-09T00:01:26.624754Z",
     "start_time": "2021-12-09T00:01:26.612785Z"
    }
   },
   "outputs": [],
   "source": [
    "image_list = ['C:\\\\Users\\\\jtear\\\\Downloads\\\\hudf_105w.fits',\n",
    "              'C:\\\\Users\\\\jtear\\\\Downloads\\\\hudf_125w.fits', \n",
    "              'C:\\\\Users\\\\jtear\\\\Downloads\\\\hudf_160w.fits']"
   ]
  },
  {
   "cell_type": "code",
   "execution_count": null,
   "id": "96c925a5",
   "metadata": {
    "ExecuteTime": {
     "end_time": "2021-12-09T00:01:26.639714Z",
     "start_time": "2021-12-09T00:01:26.625750Z"
    }
   },
   "outputs": [],
   "source": [
    "image_concat = [fits.getdata(image) for image in image_list]"
   ]
  },
  {
   "cell_type": "code",
   "execution_count": null,
   "id": "05395eff",
   "metadata": {
    "ExecuteTime": {
     "end_time": "2021-12-09T00:01:29.163206Z",
     "start_time": "2021-12-09T00:01:29.036543Z"
    }
   },
   "outputs": [],
   "source": [
    "final_image = np.sum(image_concat, axis=0)"
   ]
  },
  {
   "cell_type": "code",
   "execution_count": null,
   "id": "0a10d9ac",
   "metadata": {
    "ExecuteTime": {
     "end_time": "2021-12-09T00:01:08.250278Z",
     "start_time": "2021-12-08T23:58:49.152622Z"
    }
   },
   "outputs": [],
   "source": [
    "image_hist = plt.hist(final_image.flatten(), bins='auto')"
   ]
  },
  {
   "cell_type": "code",
   "execution_count": null,
   "id": "32015e46",
   "metadata": {
    "ExecuteTime": {
     "end_time": "2021-12-09T00:02:47.553959Z",
     "start_time": "2021-12-09T00:02:46.924845Z"
    }
   },
   "outputs": [],
   "source": [
    "plt.imshow(final_image, cmap='gray', vmin=1E2, vmax=3E3)\n",
    "plt.colorbar()"
   ]
  },
  {
   "cell_type": "code",
   "execution_count": null,
   "id": "04ea7348",
   "metadata": {},
   "outputs": [],
   "source": []
  }
 ],
 "metadata": {
  "kernelspec": {
   "display_name": "Python 3",
   "language": "python",
   "name": "python3"
  },
  "language_info": {
   "codemirror_mode": {
    "name": "ipython",
    "version": 3
   },
   "file_extension": ".py",
   "mimetype": "text/x-python",
   "name": "python",
   "nbconvert_exporter": "python",
   "pygments_lexer": "ipython3",
   "version": "3.8.8"
  }
 },
 "nbformat": 4,
 "nbformat_minor": 5
}
