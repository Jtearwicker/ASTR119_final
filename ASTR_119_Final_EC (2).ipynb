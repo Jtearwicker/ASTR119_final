{
 "cells": [
  {
   "cell_type": "code",
   "execution_count": null,
   "id": "92992aee",
   "metadata": {
    "ExecuteTime": {
     "end_time": "2021-12-09T02:41:05.198313Z",
     "start_time": "2021-12-09T02:41:04.399915Z"
    }
   },
   "outputs": [],
   "source": [
    "import numpy as np\n",
    "import matplotlib.pyplot as plt\n",
    "from astropy.io import fits\n",
    "import astropy\n",
    "import matplotlib.colors as colors\n",
    "plt.style.use('dark_background')"
   ]
  },
  {
   "cell_type": "code",
   "execution_count": null,
   "id": "3b5ce8c9",
   "metadata": {
    "ExecuteTime": {
     "end_time": "2021-12-09T02:41:05.600249Z",
     "start_time": "2021-12-09T02:41:05.584292Z"
    }
   },
   "outputs": [],
   "source": [
    "image_list = ['C:\\\\Users\\\\jtear\\\\Downloads\\\\hudf_105w.fits',\n",
    "              'C:\\\\Users\\\\jtear\\\\Downloads\\\\hudf_125w.fits', \n",
    "              'C:\\\\Users\\\\jtear\\\\Downloads\\\\hudf_160w.fits']"
   ]
  },
  {
   "cell_type": "code",
   "execution_count": null,
   "id": "385cebff",
   "metadata": {
    "ExecuteTime": {
     "end_time": "2021-12-09T02:41:06.599087Z",
     "start_time": "2021-12-09T02:41:06.580137Z"
    }
   },
   "outputs": [],
   "source": [
    "image1 = fits.open(image_list[0])\n",
    "data1 = image1[0].data\n",
    "image2 = fits.open(image_list[1])\n",
    "data2 = image2[0].data\n",
    "image3 = fits.open(image_list[2])\n",
    "data3 = image3[0].data"
   ]
  },
  {
   "cell_type": "code",
   "execution_count": null,
   "id": "1e0d4107",
   "metadata": {
    "ExecuteTime": {
     "end_time": "2021-12-09T03:06:21.029406Z",
     "start_time": "2021-12-09T03:06:20.618503Z"
    }
   },
   "outputs": [],
   "source": [
    "m1, s1 = np.mean(data1), np.std(data1)\n",
    "plt.imshow(data1, interpolation='nearest',cmap='gray', vmin=m1-s1, vmax=m1+s1, origin='lower')\n",
    "plt.colorbar()"
   ]
  },
  {
   "cell_type": "code",
   "execution_count": null,
   "id": "de7ef594",
   "metadata": {
    "ExecuteTime": {
     "end_time": "2021-12-09T02:41:11.190548Z",
     "start_time": "2021-12-09T02:41:10.764673Z"
    },
    "scrolled": true
   },
   "outputs": [],
   "source": [
    "m2, s2 = np.mean(data2), np.std(data2)\n",
    "plt.imshow(data2, interpolation='nearest',cmap='gray', vmin=m1-s1, vmax=m1+s1, origin='lower')\n",
    "plt.colorbar()"
   ]
  },
  {
   "cell_type": "code",
   "execution_count": null,
   "id": "982f7898",
   "metadata": {
    "ExecuteTime": {
     "end_time": "2021-12-09T02:41:11.609061Z",
     "start_time": "2021-12-09T02:41:11.191546Z"
    }
   },
   "outputs": [],
   "source": [
    "m3, s3 = np.mean(data3), np.std(data3)\n",
    "plt.imshow(data3, interpolation='nearest',cmap='gray', vmin=m1-s1, vmax=m1+s1, origin='lower')\n",
    "plt.colorbar()"
   ]
  },
  {
   "cell_type": "code",
   "execution_count": null,
   "id": "501c9ce6",
   "metadata": {
    "ExecuteTime": {
     "end_time": "2021-12-09T02:52:35.656992Z",
     "start_time": "2021-12-09T02:52:35.596644Z"
    }
   },
   "outputs": [],
   "source": [
    "image_concat = [fits.getdata(image) for image in image_list]"
   ]
  },
  {
   "cell_type": "code",
   "execution_count": null,
   "id": "72b8f230",
   "metadata": {
    "ExecuteTime": {
     "end_time": "2021-12-09T02:51:29.449299Z",
     "start_time": "2021-12-09T02:51:29.309657Z"
    }
   },
   "outputs": [],
   "source": [
    "final_image = np.sum(image_concat, axis=0)\n",
    "#rgb_image = colors.final_image"
   ]
  },
  {
   "cell_type": "code",
   "execution_count": null,
   "id": "9d617060",
   "metadata": {
    "ExecuteTime": {
     "end_time": "2021-12-09T02:41:32.723931Z",
     "start_time": "2021-12-09T02:41:32.040030Z"
    }
   },
   "outputs": [],
   "source": [
    "plt.imshow(final_image,cmap='gray', vmin=1E2, vmax=3E3)\n",
    "plt.colorbar()"
   ]
  },
  {
   "cell_type": "code",
   "execution_count": null,
   "id": "9e61f036",
   "metadata": {
    "ExecuteTime": {
     "end_time": "2021-12-09T02:39:58.494575Z",
     "start_time": "2021-12-09T02:39:56.184Z"
    }
   },
   "outputs": [],
   "source": [
    "outfile = 'stacked_hudf_rgb.PNG'"
   ]
  },
  {
   "cell_type": "code",
   "execution_count": null,
   "id": "bd382d18",
   "metadata": {},
   "outputs": [],
   "source": []
  }
 ],
 "metadata": {
  "kernelspec": {
   "display_name": "Python 3",
   "language": "python",
   "name": "python3"
  },
  "language_info": {
   "codemirror_mode": {
    "name": "ipython",
    "version": 3
   },
   "file_extension": ".py",
   "mimetype": "text/x-python",
   "name": "python",
   "nbconvert_exporter": "python",
   "pygments_lexer": "ipython3",
   "version": "3.8.8"
  }
 },
 "nbformat": 4,
 "nbformat_minor": 5
}
